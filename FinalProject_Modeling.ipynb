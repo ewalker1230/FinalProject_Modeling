{
 "cells": [
  {
   "cell_type": "code",
   "execution_count": 2,
   "metadata": {},
   "outputs": [],
   "source": [
    "import pandas as pd\n",
    "import numpy as np\n",
    "import sklearn as sk\n",
    "import seaborn as sns\n",
    "import nltk\n",
    "from sklearn.model_selection import train_test_split\n",
    "from sklearn.feature_extraction.text import CountVectorizer, TfidfVectorizer\n",
    "from sklearn.naive_bayes import MultinomialNB         # Naive Bayes\n",
    "from sklearn.linear_model import LogisticRegression\n",
    "from sklearn import metrics\n",
    "from textblob import TextBlob, Word\n",
    "from nltk.stem.snowball import SnowballStemmer\n",
    "from nltk.corpus import stopwords\n",
    "import codecs\n",
    "\n",
    "import time\n",
    "from datetime import date\n",
    "import matplotlib.pyplot as plt\n",
    "\n",
    "\n",
    "%matplotlib inline\n"
   ]
  },
  {
   "cell_type": "code",
   "execution_count": 3,
   "metadata": {},
   "outputs": [
    {
     "data": {
      "text/html": [
       "<div>\n",
       "<style scoped>\n",
       "    .dataframe tbody tr th:only-of-type {\n",
       "        vertical-align: middle;\n",
       "    }\n",
       "\n",
       "    .dataframe tbody tr th {\n",
       "        vertical-align: top;\n",
       "    }\n",
       "\n",
       "    .dataframe thead th {\n",
       "        text-align: right;\n",
       "    }\n",
       "</style>\n",
       "<table border=\"1\" class=\"dataframe\">\n",
       "  <thead>\n",
       "    <tr style=\"text-align: right;\">\n",
       "      <th></th>\n",
       "      <th>Unnamed: 0</th>\n",
       "      <th>last_scraped</th>\n",
       "      <th>name</th>\n",
       "      <th>summary</th>\n",
       "      <th>space</th>\n",
       "      <th>description</th>\n",
       "      <th>neighborhood_overview</th>\n",
       "      <th>transit</th>\n",
       "      <th>access</th>\n",
       "      <th>house_rules</th>\n",
       "      <th>host_since</th>\n",
       "      <th>host_about</th>\n",
       "      <th>host_total_listings_count</th>\n",
       "      <th>neighbourhood</th>\n",
       "      <th>zipcode</th>\n",
       "      <th>room_type</th>\n",
       "      <th>accommodates</th>\n",
       "      <th>bathrooms</th>\n",
       "      <th>beds</th>\n",
       "      <th>bed_type</th>\n",
       "      <th>amenities</th>\n",
       "      <th>price</th>\n",
       "      <th>availability_90</th>\n",
       "      <th>calendar_last_scraped</th>\n",
       "      <th>first_review</th>\n",
       "      <th>last_review</th>\n",
       "      <th>calculated_host_listings_count</th>\n",
       "      <th>reviews_per_month</th>\n",
       "      <th>price_int</th>\n",
       "      <th>price_bed</th>\n",
       "      <th>Host_Age</th>\n",
       "      <th>RPM</th>\n",
       "    </tr>\n",
       "  </thead>\n",
       "  <tbody>\n",
       "    <tr>\n",
       "      <th>2828</th>\n",
       "      <td>3583</td>\n",
       "      <td>2016-09-07</td>\n",
       "      <td>Great Location; Train and Restaurants</td>\n",
       "      <td>My place is close to Taco Loco Mexican Grill, ...</td>\n",
       "      <td>NaN</td>\n",
       "      <td>My place is close to Taco Loco Mexican Grill, ...</td>\n",
       "      <td>NaN</td>\n",
       "      <td>NaN</td>\n",
       "      <td>NaN</td>\n",
       "      <td>NaN</td>\n",
       "      <td>2016-05-27</td>\n",
       "      <td>Hi, I am very friendly, helpful, positive and ...</td>\n",
       "      <td>4</td>\n",
       "      <td>Somerville</td>\n",
       "      <td>02145</td>\n",
       "      <td>Private room</td>\n",
       "      <td>2</td>\n",
       "      <td>1.0</td>\n",
       "      <td>1.0</td>\n",
       "      <td>Real Bed</td>\n",
       "      <td>{Kitchen,Gym,\"Family/Kid Friendly\",Washer,Drye...</td>\n",
       "      <td>$65.00</td>\n",
       "      <td>5</td>\n",
       "      <td>2016-09-06</td>\n",
       "      <td>2016-08-27</td>\n",
       "      <td>2016-09-04</td>\n",
       "      <td>1</td>\n",
       "      <td>2.0</td>\n",
       "      <td>65.0</td>\n",
       "      <td>65.0</td>\n",
       "      <td>103</td>\n",
       "      <td>1</td>\n",
       "    </tr>\n",
       "  </tbody>\n",
       "</table>\n",
       "</div>"
      ],
      "text/plain": [
       "      Unnamed: 0 last_scraped                                   name  \\\n",
       "2828        3583   2016-09-07  Great Location; Train and Restaurants   \n",
       "\n",
       "                                                summary space  \\\n",
       "2828  My place is close to Taco Loco Mexican Grill, ...   NaN   \n",
       "\n",
       "                                            description neighborhood_overview  \\\n",
       "2828  My place is close to Taco Loco Mexican Grill, ...                   NaN   \n",
       "\n",
       "     transit access house_rules  host_since  \\\n",
       "2828     NaN    NaN         NaN  2016-05-27   \n",
       "\n",
       "                                             host_about  \\\n",
       "2828  Hi, I am very friendly, helpful, positive and ...   \n",
       "\n",
       "      host_total_listings_count neighbourhood zipcode     room_type  \\\n",
       "2828                          4    Somerville   02145  Private room   \n",
       "\n",
       "      accommodates  bathrooms  beds  bed_type  \\\n",
       "2828             2        1.0   1.0  Real Bed   \n",
       "\n",
       "                                              amenities   price  \\\n",
       "2828  {Kitchen,Gym,\"Family/Kid Friendly\",Washer,Drye...  $65.00   \n",
       "\n",
       "      availability_90 calendar_last_scraped first_review last_review  \\\n",
       "2828                5            2016-09-06   2016-08-27  2016-09-04   \n",
       "\n",
       "      calculated_host_listings_count  reviews_per_month  price_int  price_bed  \\\n",
       "2828                               1                2.0       65.0       65.0   \n",
       "\n",
       "      Host_Age  RPM  \n",
       "2828       103    1  "
      ]
     },
     "execution_count": 3,
     "metadata": {},
     "output_type": "execute_result"
    }
   ],
   "source": [
    "data = r'../FinalProjectEDA/AB_Clean.csv'\n",
    "pd.set_option('display.max_columns', 500)\n",
    "AB_Clean = pd.read_csv(data)\n",
    "AB_Clean.tail(1)"
   ]
  },
  {
   "cell_type": "code",
   "execution_count": null,
   "metadata": {},
   "outputs": [],
   "source": [
    "data1 = r'../FinalProjectEDA/AB_Clean.csv'\n",
    "pd.set_option('display.max_columns', 500)\n",
    "AB_Clean_text = pd.read_csv(data1)\n",
    "AB_Clean.tail(1)"
   ]
  },
  {
   "cell_type": "markdown",
   "metadata": {},
   "source": [
    "#### Linear regression with quantitative variables\n",
    "\n",
    "The list of my quantitative variables is below\n",
    "\n",
    "- host_total_listings_count\n",
    "- accomodates\n",
    "- availability 90\n",
    "- price_bed\n",
    "- Host_age\n"
   ]
  },
  {
   "cell_type": "code",
   "execution_count": 5,
   "metadata": {},
   "outputs": [],
   "source": [
    "# Instantatiate a logistic regression and fit model with all the quant vars. \n",
    "# Fit a logistic regression model and store the class predictions.\n",
    "from sklearn.linear_model import LogisticRegression\n",
    "\n",
    "logreg = LogisticRegression()\n",
    "\n",
    "feature_cols = ['host_total_listings_count','accommodates','availability_90','price_bed','Host_Age']\n",
    "X = AB_Clean[feature_cols]\n",
    "y = AB_Clean.RPM\n",
    "\n",
    "logreg.fit(X,y)\n",
    "pred = logreg.predict(X)"
   ]
  },
  {
   "cell_type": "code",
   "execution_count": 10,
   "metadata": {},
   "outputs": [
    {
     "data": {
      "text/plain": [
       "0.607281724991163"
      ]
     },
     "execution_count": 10,
     "metadata": {},
     "output_type": "execute_result"
    }
   ],
   "source": [
    "#score of model\n",
    "logreg.score(X,y)"
   ]
  },
  {
   "cell_type": "code",
   "execution_count": 28,
   "metadata": {},
   "outputs": [
    {
     "data": {
      "text/plain": [
       "array([-0.00478119,  0.05927462,  0.0054951 , -0.00240966, -0.00037408])"
      ]
     },
     "execution_count": 28,
     "metadata": {},
     "output_type": "execute_result"
    }
   ],
   "source": [
    "# show coefficients, accommodates is the most influential\n",
    "coef = logreg.coef_[0]\n"
   ]
  },
  {
   "cell_type": "code",
   "execution_count": 31,
   "metadata": {},
   "outputs": [
    {
     "data": {
      "text/plain": [
       "LogisticRegression(C=1.0, class_weight=None, dual=False, fit_intercept=True,\n",
       "                   intercept_scaling=1, l1_ratio=None, max_iter=100,\n",
       "                   multi_class='auto', n_jobs=None, penalty='l2',\n",
       "                   random_state=None, solver='lbfgs', tol=0.0001, verbose=0,\n",
       "                   warm_start=False)"
      ]
     },
     "execution_count": 31,
     "metadata": {},
     "output_type": "execute_result"
    }
   ],
   "source": [
    "# Repeat logistic regression with train, test, split \n",
    "# using train test split to cross val\n",
    "logreg2 = LogisticRegression()\n",
    "\n",
    "feature_cols = ['host_total_listings_count','accommodates','availability_90','price_bed','Host_Age']\n",
    "X = AB_Clean[feature_cols]\n",
    "y = AB_Clean.RPM\n",
    "\n",
    "x_train, x_test, y_train, y_test = train_test_split(X,y, random_state =42)\n",
    "\n",
    "\n",
    "logreg2.fit(x_train, y_train)"
   ]
  },
  {
   "cell_type": "code",
   "execution_count": 33,
   "metadata": {},
   "outputs": [
    {
     "data": {
      "text/plain": [
       "0.6086956521739131"
      ]
     },
     "execution_count": 33,
     "metadata": {},
     "output_type": "execute_result"
    }
   ],
   "source": [
    "logreg2.score(X,y)"
   ]
  },
  {
   "cell_type": "code",
   "execution_count": 35,
   "metadata": {},
   "outputs": [
    {
     "data": {
      "text/plain": [
       "array([-0.00456227,  0.04635654,  0.00569705, -0.00209617, -0.00033959])"
      ]
     },
     "execution_count": 35,
     "metadata": {},
     "output_type": "execute_result"
    }
   ],
   "source": [
    "coef2 = logreg2.coef_[0]\n",
    "coef2\n"
   ]
  },
  {
   "cell_type": "code",
   "execution_count": null,
   "metadata": {},
   "outputs": [],
   "source": []
  }
 ],
 "metadata": {
  "kernelspec": {
   "display_name": "Python 3",
   "language": "python",
   "name": "python3"
  },
  "language_info": {
   "codemirror_mode": {
    "name": "ipython",
    "version": 3
   },
   "file_extension": ".py",
   "mimetype": "text/x-python",
   "name": "python",
   "nbconvert_exporter": "python",
   "pygments_lexer": "ipython3",
   "version": "3.7.6"
  }
 },
 "nbformat": 4,
 "nbformat_minor": 4
}
